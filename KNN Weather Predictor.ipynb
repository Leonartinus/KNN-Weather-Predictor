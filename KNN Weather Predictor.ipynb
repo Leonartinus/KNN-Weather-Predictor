{
 "cells": [
  {
   "cell_type": "code",
   "execution_count": 17,
   "metadata": {},
   "outputs": [],
   "source": [
    "import numpy as np\n",
    "import matplotlib.pyplot as plt\n",
    "import pandas as pd\n",
    "import numpy as np\n",
    "from sklearn import preprocessing"
   ]
  },
  {
   "cell_type": "code",
   "execution_count": 18,
   "metadata": {},
   "outputs": [
    {
     "data": {
      "text/html": [
       "<div>\n",
       "<style scoped>\n",
       "    .dataframe tbody tr th:only-of-type {\n",
       "        vertical-align: middle;\n",
       "    }\n",
       "\n",
       "    .dataframe tbody tr th {\n",
       "        vertical-align: top;\n",
       "    }\n",
       "\n",
       "    .dataframe thead th {\n",
       "        text-align: right;\n",
       "    }\n",
       "</style>\n",
       "<table border=\"1\" class=\"dataframe\">\n",
       "  <thead>\n",
       "    <tr style=\"text-align: right;\">\n",
       "      <th></th>\n",
       "      <th>Temp (C) -2h</th>\n",
       "      <th>Dew Point Temp (C) -2h</th>\n",
       "      <th>Rel Hum (%) -2h</th>\n",
       "      <th>Wind Dir (10s deg) -2h</th>\n",
       "      <th>Wind Spd (km/h) -2h</th>\n",
       "      <th>Visibility (km) -2h</th>\n",
       "      <th>Stn Press (kPa) -2h</th>\n",
       "      <th>Weather -2h</th>\n",
       "      <th>Temp (C) -1h</th>\n",
       "      <th>Dew Point Temp (C) -1h</th>\n",
       "      <th>Rel Hum (%) -1h</th>\n",
       "      <th>Wind Dir (10s deg) -1h</th>\n",
       "      <th>Wind Spd (km/h) -1h</th>\n",
       "      <th>Visibility (km) -1h</th>\n",
       "      <th>Stn Press (kPa) -1h</th>\n",
       "      <th>Weather -1h</th>\n",
       "      <th>Weather</th>\n",
       "    </tr>\n",
       "  </thead>\n",
       "  <tbody>\n",
       "    <tr>\n",
       "      <th>0</th>\n",
       "      <td>7.2</td>\n",
       "      <td>6.9</td>\n",
       "      <td>98</td>\n",
       "      <td>8</td>\n",
       "      <td>15</td>\n",
       "      <td>12.9</td>\n",
       "      <td>101.65</td>\n",
       "      <td>True</td>\n",
       "      <td>7.3</td>\n",
       "      <td>6.9</td>\n",
       "      <td>98</td>\n",
       "      <td>9</td>\n",
       "      <td>22</td>\n",
       "      <td>4.8</td>\n",
       "      <td>101.54</td>\n",
       "      <td>True</td>\n",
       "      <td>True</td>\n",
       "    </tr>\n",
       "    <tr>\n",
       "      <th>1</th>\n",
       "      <td>7.3</td>\n",
       "      <td>6.9</td>\n",
       "      <td>98</td>\n",
       "      <td>9</td>\n",
       "      <td>22</td>\n",
       "      <td>4.8</td>\n",
       "      <td>101.54</td>\n",
       "      <td>True</td>\n",
       "      <td>7.5</td>\n",
       "      <td>7.0</td>\n",
       "      <td>97</td>\n",
       "      <td>8</td>\n",
       "      <td>20</td>\n",
       "      <td>12.9</td>\n",
       "      <td>101.42</td>\n",
       "      <td>True</td>\n",
       "      <td>True</td>\n",
       "    </tr>\n",
       "    <tr>\n",
       "      <th>2</th>\n",
       "      <td>7.5</td>\n",
       "      <td>7.0</td>\n",
       "      <td>97</td>\n",
       "      <td>8</td>\n",
       "      <td>20</td>\n",
       "      <td>12.9</td>\n",
       "      <td>101.42</td>\n",
       "      <td>True</td>\n",
       "      <td>7.7</td>\n",
       "      <td>6.7</td>\n",
       "      <td>93</td>\n",
       "      <td>8</td>\n",
       "      <td>25</td>\n",
       "      <td>12.9</td>\n",
       "      <td>101.32</td>\n",
       "      <td>True</td>\n",
       "      <td>True</td>\n",
       "    </tr>\n",
       "    <tr>\n",
       "      <th>3</th>\n",
       "      <td>7.7</td>\n",
       "      <td>6.7</td>\n",
       "      <td>93</td>\n",
       "      <td>8</td>\n",
       "      <td>25</td>\n",
       "      <td>12.9</td>\n",
       "      <td>101.32</td>\n",
       "      <td>True</td>\n",
       "      <td>7.5</td>\n",
       "      <td>6.6</td>\n",
       "      <td>94</td>\n",
       "      <td>9</td>\n",
       "      <td>25</td>\n",
       "      <td>16.1</td>\n",
       "      <td>101.23</td>\n",
       "      <td>True</td>\n",
       "      <td>True</td>\n",
       "    </tr>\n",
       "    <tr>\n",
       "      <th>4</th>\n",
       "      <td>7.5</td>\n",
       "      <td>6.6</td>\n",
       "      <td>94</td>\n",
       "      <td>9</td>\n",
       "      <td>25</td>\n",
       "      <td>16.1</td>\n",
       "      <td>101.23</td>\n",
       "      <td>True</td>\n",
       "      <td>7.6</td>\n",
       "      <td>6.6</td>\n",
       "      <td>93</td>\n",
       "      <td>8</td>\n",
       "      <td>22</td>\n",
       "      <td>16.1</td>\n",
       "      <td>101.15</td>\n",
       "      <td>True</td>\n",
       "      <td>True</td>\n",
       "    </tr>\n",
       "  </tbody>\n",
       "</table>\n",
       "</div>"
      ],
      "text/plain": [
       "   Temp (C) -2h  Dew Point Temp (C) -2h  Rel Hum (%) -2h  \\\n",
       "0           7.2                     6.9               98   \n",
       "1           7.3                     6.9               98   \n",
       "2           7.5                     7.0               97   \n",
       "3           7.7                     6.7               93   \n",
       "4           7.5                     6.6               94   \n",
       "\n",
       "   Wind Dir (10s deg) -2h  Wind Spd (km/h) -2h  Visibility (km) -2h  \\\n",
       "0                       8                   15                 12.9   \n",
       "1                       9                   22                  4.8   \n",
       "2                       8                   20                 12.9   \n",
       "3                       8                   25                 12.9   \n",
       "4                       9                   25                 16.1   \n",
       "\n",
       "   Stn Press (kPa) -2h  Weather -2h  Temp (C) -1h  Dew Point Temp (C) -1h  \\\n",
       "0               101.65         True           7.3                     6.9   \n",
       "1               101.54         True           7.5                     7.0   \n",
       "2               101.42         True           7.7                     6.7   \n",
       "3               101.32         True           7.5                     6.6   \n",
       "4               101.23         True           7.6                     6.6   \n",
       "\n",
       "   Rel Hum (%) -1h  Wind Dir (10s deg) -1h  Wind Spd (km/h) -1h  \\\n",
       "0               98                       9                   22   \n",
       "1               97                       8                   20   \n",
       "2               93                       8                   25   \n",
       "3               94                       9                   25   \n",
       "4               93                       8                   22   \n",
       "\n",
       "   Visibility (km) -1h  Stn Press (kPa) -1h  Weather -1h  Weather  \n",
       "0                  4.8               101.54         True     True  \n",
       "1                 12.9               101.42         True     True  \n",
       "2                 12.9               101.32         True     True  \n",
       "3                 16.1               101.23         True     True  \n",
       "4                 16.1               101.15         True     True  "
      ]
     },
     "execution_count": 18,
     "metadata": {},
     "output_type": "execute_result"
    }
   ],
   "source": [
    "df = pd.read_csv('2021 historical climate data.csv')\n",
    "df.head()"
   ]
  },
  {
   "cell_type": "code",
   "execution_count": 19,
   "metadata": {},
   "outputs": [
    {
     "data": {
      "text/plain": [
       "False    6180\n",
       "True     1161\n",
       "Name: Weather, dtype: int64"
      ]
     },
     "execution_count": 19,
     "metadata": {},
     "output_type": "execute_result"
    }
   ],
   "source": [
    "df['Weather'].value_counts()"
   ]
  },
  {
   "cell_type": "code",
   "execution_count": 20,
   "metadata": {},
   "outputs": [],
   "source": [
    "#df.hist(column='Temp (C)', bins=150)"
   ]
  },
  {
   "cell_type": "code",
   "execution_count": 21,
   "metadata": {},
   "outputs": [
    {
     "data": {
      "text/plain": [
       "Index(['Temp (C) -2h', 'Dew Point Temp (C) -2h', 'Rel Hum (%) -2h',\n",
       "       'Wind Dir (10s deg) -2h', 'Wind Spd (km/h) -2h', 'Visibility (km) -2h',\n",
       "       'Stn Press (kPa) -2h', 'Weather -2h', 'Temp (C) -1h',\n",
       "       'Dew Point Temp (C) -1h', 'Rel Hum (%) -1h', 'Wind Dir (10s deg) -1h',\n",
       "       'Wind Spd (km/h) -1h', 'Visibility (km) -1h', 'Stn Press (kPa) -1h',\n",
       "       'Weather -1h', 'Weather'],\n",
       "      dtype='object')"
      ]
     },
     "execution_count": 21,
     "metadata": {},
     "output_type": "execute_result"
    }
   ],
   "source": [
    "df.columns"
   ]
  },
  {
   "cell_type": "code",
   "execution_count": 22,
   "metadata": {},
   "outputs": [
    {
     "data": {
      "text/plain": [
       "array([[7.2, 6.9, 98, 8, 15, 12.9, 101.65, True, 7.3, 6.9, 98, 9, 22,\n",
       "        4.8, 101.54, True, True],\n",
       "       [7.3, 6.9, 98, 9, 22, 4.8, 101.54, True, 7.5, 7.0, 97, 8, 20,\n",
       "        12.9, 101.42, True, True],\n",
       "       [7.5, 7.0, 97, 8, 20, 12.9, 101.42, True, 7.7, 6.7, 93, 8, 25,\n",
       "        12.9, 101.32, True, True],\n",
       "       [7.7, 6.7, 93, 8, 25, 12.9, 101.32, True, 7.5, 6.6, 94, 9, 25,\n",
       "        16.1, 101.23, True, True],\n",
       "       [7.5, 6.6, 94, 9, 25, 16.1, 101.23, True, 7.6, 6.6, 93, 8, 22,\n",
       "        16.1, 101.15, True, True]], dtype=object)"
      ]
     },
     "execution_count": 22,
     "metadata": {},
     "output_type": "execute_result"
    }
   ],
   "source": [
    "X = df[[\"Temp (C) -2h\",\"Dew Point Temp (C) -2h\",\"Rel Hum (%) -2h\",\"Wind Dir (10s deg) -2h\",\"Wind Spd (km/h) -2h\",\"Visibility (km) -2h\",\n",
    "\"Stn Press (kPa) -2h\",\"Weather -2h\",\"Temp (C) -1h\",\"Dew Point Temp (C) -1h\",\"Rel Hum (%) -1h\",\"Wind Dir (10s deg) -1h\",\n",
    "\"Wind Spd (km/h) -1h\",\"Visibility (km) -1h\",\"Stn Press (kPa) -1h\",\"Weather -1h\",\"Weather\"]] .values\n",
    "\n",
    "X[0:5]"
   ]
  },
  {
   "cell_type": "code",
   "execution_count": 23,
   "metadata": {},
   "outputs": [
    {
     "data": {
      "text/plain": [
       "array([ True,  True,  True,  True,  True])"
      ]
     },
     "execution_count": 23,
     "metadata": {},
     "output_type": "execute_result"
    }
   ],
   "source": [
    "y = df['Weather'].values\n",
    "y[0:5]"
   ]
  },
  {
   "cell_type": "code",
   "execution_count": 24,
   "metadata": {},
   "outputs": [
    {
     "data": {
      "text/plain": [
       "array([[-0.55477536, -0.13392357,  1.2927218 , -0.91458281,  0.09244518,\n",
       "        -1.71929881,  0.10097727,  2.30480451, -0.5401244 , -0.13348549,\n",
       "         1.29294607, -0.80687695,  0.96509995, -2.50676205, -0.04629791,\n",
       "         2.30598264,  2.3071622 ],\n",
       "       [-0.54068637, -0.13392357,  1.2927218 , -0.80687695,  0.96505365,\n",
       "        -2.50617712, -0.04618587,  2.30480451, -0.51196021, -0.11759786,\n",
       "         1.21756572, -0.91458281,  0.71578444, -1.71974664, -0.20682989,\n",
       "         2.30598264,  2.3071622 ],\n",
       "       [-0.51250839, -0.11802736,  1.21734854, -0.91458281,  0.71573694,\n",
       "        -1.71929881, -0.20672748,  2.30480451, -0.48379602, -0.16526074,\n",
       "         0.91604431, -0.91458281,  1.3390732 , -1.71974664, -0.34060655,\n",
       "         2.30598264,  2.3071622 ],\n",
       "       [-0.48433041, -0.16571599,  0.91585548, -0.91458281,  1.33902871,\n",
       "        -1.71929881, -0.34051216,  2.30480451, -0.51196021, -0.18114836,\n",
       "         0.99142466, -0.80687695,  1.3390732 , -1.40882696, -0.46100553,\n",
       "         2.30598264,  2.3071622 ],\n",
       "       [-0.51250839, -0.1816122 ,  0.99122875, -0.80687695,  1.33902871,\n",
       "        -1.40843331, -0.46091837,  2.30480451, -0.49787811, -0.18114836,\n",
       "         0.91604431, -0.91458281,  0.96509995, -1.40882696, -0.56802686,\n",
       "         2.30598264,  2.3071622 ]])"
      ]
     },
     "execution_count": 24,
     "metadata": {},
     "output_type": "execute_result"
    }
   ],
   "source": [
    "X = preprocessing.StandardScaler().fit(X).transform(X.astype(float))\n",
    "X[0:5]"
   ]
  },
  {
   "cell_type": "code",
   "execution_count": 25,
   "metadata": {},
   "outputs": [
    {
     "name": "stdout",
     "output_type": "stream",
     "text": [
      "Train set: (5872, 17) (5872,)\n",
      "Test set: (1469, 17) (1469,)\n"
     ]
    }
   ],
   "source": [
    "from sklearn.model_selection import train_test_split\n",
    "X_train, X_test, y_train, y_test = train_test_split( X, y, test_size=0.2, random_state=4)\n",
    "print ('Train set:', X_train.shape,  y_train.shape)\n",
    "print ('Test set:', X_test.shape,  y_test.shape)"
   ]
  },
  {
   "cell_type": "code",
   "execution_count": 26,
   "metadata": {},
   "outputs": [],
   "source": [
    "from sklearn.neighbors import KNeighborsClassifier"
   ]
  },
  {
   "cell_type": "code",
   "execution_count": 27,
   "metadata": {},
   "outputs": [
    {
     "data": {
      "text/plain": [
       "KNeighborsClassifier(n_neighbors=6)"
      ]
     },
     "execution_count": 27,
     "metadata": {},
     "output_type": "execute_result"
    }
   ],
   "source": [
    "k = 6\n",
    "#Train Model and Predict  \n",
    "neigh = KNeighborsClassifier(n_neighbors = k).fit(X_train,y_train)\n",
    "neigh"
   ]
  },
  {
   "cell_type": "code",
   "execution_count": 28,
   "metadata": {},
   "outputs": [
    {
     "data": {
      "text/plain": [
       "array([False, False, False, False, False])"
      ]
     },
     "execution_count": 28,
     "metadata": {},
     "output_type": "execute_result"
    }
   ],
   "source": [
    "yhat = neigh.predict(X_test)\n",
    "yhat[0:5]"
   ]
  },
  {
   "cell_type": "code",
   "execution_count": 29,
   "metadata": {},
   "outputs": [
    {
     "name": "stdout",
     "output_type": "stream",
     "text": [
      "Train set Accuracy:  0.9986376021798365\n",
      "Test set Accuracy:  0.9972770592239619\n"
     ]
    }
   ],
   "source": [
    "from sklearn import metrics\n",
    "print(\"Train set Accuracy: \", metrics.accuracy_score(y_train, neigh.predict(X_train)))\n",
    "print(\"Test set Accuracy: \", metrics.accuracy_score(y_test, yhat))"
   ]
  },
  {
   "cell_type": "code",
   "execution_count": 30,
   "metadata": {},
   "outputs": [
    {
     "data": {
      "text/plain": [
       "array([0.99863853, 0.99727706, 0.99795779, 0.99795779, 0.99863853,\n",
       "       0.99727706, 0.99795779, 0.99795779, 0.99795779, 0.99795779,\n",
       "       0.99795779, 0.99795779, 0.99795779, 0.99795779])"
      ]
     },
     "execution_count": 30,
     "metadata": {},
     "output_type": "execute_result"
    }
   ],
   "source": [
    "Ks = 15\n",
    "mean_acc = np.zeros((Ks-1))\n",
    "std_acc = np.zeros((Ks-1))\n",
    "\n",
    "for n in range(1,Ks):\n",
    "    \n",
    "    #Train Model and Predict  \n",
    "    neigh = KNeighborsClassifier(n_neighbors = n).fit(X_train,y_train)\n",
    "    yhat=neigh.predict(X_test)\n",
    "    mean_acc[n-1] = metrics.accuracy_score(y_test, yhat)\n",
    "\n",
    "    \n",
    "    std_acc[n-1]=np.std(yhat==y_test)/np.sqrt(yhat.shape[0])\n",
    "\n",
    "mean_acc"
   ]
  },
  {
   "cell_type": "code",
   "execution_count": 31,
   "metadata": {},
   "outputs": [
    {
     "data": {
      "image/png": "[encoded data removed]",
      "text/plain": [
       "<Figure size 432x288 with 1 Axes>"
      ]
     },
     "metadata": {
      "needs_background": "light"
     },
     "output_type": "display_data"
    }
   ],
   "source": [
    "plt.plot(range(1,Ks),mean_acc,'g')\n",
    "plt.fill_between(range(1,Ks),mean_acc - 1 * std_acc,mean_acc + 1 * std_acc, alpha=0.10)\n",
    "plt.fill_between(range(1,Ks),mean_acc - 3 * std_acc,mean_acc + 3 * std_acc, alpha=0.10,color=\"green\")\n",
    "plt.legend(('Accuracy ', '+/- 1xstd','+/- 3xstd'))\n",
    "plt.ylabel('Accuracy ')\n",
    "plt.xlabel('Number of Neighbors (K)')\n",
    "plt.tight_layout()\n",
    "plt.show()\n",
    "\n"
   ]
  },
  {
   "cell_type": "code",
   "execution_count": 33,
   "metadata": {},
   "outputs": [
    {
     "data": {
      "text/plain": [
       "array([0.99767648, 0.99591744, 0.99677993, 0.99677993, 0.99767648,\n",
       "       0.99591744, 0.99677993, 0.99677993, 0.99677993, 0.99677993,\n",
       "       0.99677993, 0.99677993, 0.99677993, 0.99677993])"
      ]
     },
     "execution_count": 33,
     "metadata": {},
     "output_type": "execute_result"
    }
   ],
   "source": [
    "mean_acc - 1 * std_acc"
   ]
  },
  {
   "cell_type": "code",
   "execution_count": 34,
   "metadata": {},
   "outputs": [
    {
     "data": {
      "text/plain": [
       "array([0.99960058, 0.99863667, 0.99913566, 0.99913566, 0.99960058,\n",
       "       0.99863667, 0.99913566, 0.99913566, 0.99913566, 0.99913566,\n",
       "       0.99913566, 0.99913566, 0.99913566, 0.99913566])"
      ]
     },
     "execution_count": 34,
     "metadata": {},
     "output_type": "execute_result"
    }
   ],
   "source": [
    "mean_acc + 1 * std_acc\n"
   ]
  },
  {
   "cell_type": "code",
   "execution_count": 35,
   "metadata": {},
   "outputs": [
    {
     "data": {
      "text/plain": [
       "array([0.99575238, 0.99319821, 0.9944242 , 0.9944242 , 0.99575238,\n",
       "       0.99319821, 0.9944242 , 0.9944242 , 0.9944242 , 0.9944242 ,\n",
       "       0.9944242 , 0.9944242 , 0.9944242 , 0.9944242 ])"
      ]
     },
     "execution_count": 35,
     "metadata": {},
     "output_type": "execute_result"
    }
   ],
   "source": [
    "mean_acc - 3 * std_acc\n"
   ]
  },
  {
   "cell_type": "code",
   "execution_count": 36,
   "metadata": {},
   "outputs": [
    {
     "data": {
      "text/plain": [
       "array([1.00152468, 1.00135591, 1.00149138, 1.00149138, 1.00152468,\n",
       "       1.00135591, 1.00149138, 1.00149138, 1.00149138, 1.00149138,\n",
       "       1.00149138, 1.00149138, 1.00149138, 1.00149138])"
      ]
     },
     "execution_count": 36,
     "metadata": {},
     "output_type": "execute_result"
    }
   ],
   "source": [
    "mean_acc + 3 * std_acc"
   ]
  }
 ],
 "metadata": {
  "interpreter": {
   "hash": "6d1b99c59ef494f5fa5827e22125abfbd4a73a0e022636b8e7dc2645ddc8348f"
  },
  "kernelspec": {
   "display_name": "Python 3.10.0 64-bit",
   "language": "python",
   "name": "python3"
  },
  "language_info": {
   "codemirror_mode": {
    "name": "ipython",
    "version": 3
   },
   "file_extension": ".py",
   "mimetype": "text/x-python",
   "name": "python",
   "nbconvert_exporter": "python",
   "pygments_lexer": "ipython3",
   "version": "3.10.0"
  },
  "orig_nbformat": 4
 },
 "nbformat": 4,
 "nbformat_minor": 2
}
